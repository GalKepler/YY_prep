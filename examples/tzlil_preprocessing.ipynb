{
 "cells": [
  {
   "cell_type": "code",
   "execution_count": 11,
   "id": "35fc68a3",
   "metadata": {},
   "outputs": [],
   "source": [
    "import pandas as pd\n",
    "from pathlib import Path\n",
    "from yyprep.utils import get_heuristics\n",
    "\n",
    "dcm_path = Path(\"/media/storage/Tzlil/MRI_RAW_DATA/\")\n",
    "bids_path = Path(\"/media/storage/Tzlil/bids\")\n",
    "bids_path.mkdir(parents=True, exist_ok=True)\n",
    "\n",
    "\n",
    "researcher = \"tzlil\"\n",
    "heuristics = get_heuristics()\n",
    "heuristic = heuristics[researcher]"
   ]
  },
  {
   "cell_type": "code",
   "execution_count": null,
   "id": "91b190fa",
   "metadata": {},
   "outputs": [],
   "source": []
  },
  {
   "cell_type": "markdown",
   "id": "7b7f67fc",
   "metadata": {},
   "source": []
  },
  {
   "cell_type": "code",
   "execution_count": 4,
   "id": "a048839f",
   "metadata": {},
   "outputs": [],
   "source": [
    "df = pd.DataFrame(columns=[\"subject_code\", \"dicom_path\", \"session_id\", \"bids_path\"])\n",
    "for i, ses in enumerate(dcm_path.iterdir()):\n",
    "    session_id = \"\".join(ses.name.split(\"_\")[-2:])\n",
    "    subject_code = str(i + 1).zfill(3)\n",
    "    session_bids = bids_path / f\"sub-{subject_code}\" / f\"ses-{session_id}\"\n",
    "    df.loc[len(df)] = [subject_code, str(ses), session_id, str(session_bids)]"
   ]
  }
 ],
 "metadata": {
  "kernelspec": {
   "display_name": "venv",
   "language": "python",
   "name": "python3"
  },
  "language_info": {
   "codemirror_mode": {
    "name": "ipython",
    "version": 3
   },
   "file_extension": ".py",
   "mimetype": "text/x-python",
   "name": "python",
   "nbconvert_exporter": "python",
   "pygments_lexer": "ipython3",
   "version": "3.12.3"
  }
 },
 "nbformat": 4,
 "nbformat_minor": 5
}
