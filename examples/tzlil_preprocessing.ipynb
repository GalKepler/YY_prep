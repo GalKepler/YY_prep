{
 "cells": [
  {
   "cell_type": "code",
   "execution_count": 11,
   "id": "35fc68a3",
   "metadata": {},
   "outputs": [],
   "source": [
    "import pandas as pd\n",
    "from pathlib import Path\n",
    "from yyprep.utils import get_heuristics\n",
    "\n",
    "dcm_path = Path(\"/media/storage/Tzlil/MRI_RAW_DATA/\")\n",
    "bids_path = Path(\"/media/storage/Tzlil/bids\")\n",
    "bids_path.mkdir(parents=True, exist_ok=True)\n",
    "\n",
    "\n",
    "researcher = \"tzlil\"\n",
    "heuristics = get_heuristics()\n",
    "heuristic = heuristics[researcher]"
   ]
  },
  {
   "cell_type": "code",
   "execution_count": null,
   "id": "91b190fa",
   "metadata": {},
   "outputs": [],
   "source": []
  },
  {
   "cell_type": "markdown",
   "id": "7b7f67fc",
   "metadata": {},
   "source": []
  },
  {
   "cell_type": "code",
   "execution_count": 13,
   "id": "a048839f",
   "metadata": {},
   "outputs": [],
   "source": [
    "df = pd.DataFrame(columns=[\"subject_code\", \"dicom_path\", \"session_id\", \"bids_path\"])\n",
    "for i, ses in enumerate(dcm_path.iterdir()):\n",
    "    session_id = \"\".join(ses.name.split(\"_\")[-2:])\n",
    "    subject_code = str(i + 1).zfill(3)\n",
    "    session_bids = bids_path / f\"sub-{subject_code}\" / f\"ses-{session_id}\"\n",
    "    df.loc[len(df)] = [subject_code, str(ses), session_id, str(session_bids)]"
   ]
  },
  {
   "cell_type": "code",
   "execution_count": 14,
   "id": "f55c9186",
   "metadata": {},
   "outputs": [
    {
     "data": {
      "application/vnd.microsoft.datawrangler.viewer.v0+json": {
       "columns": [
        {
         "name": "index",
         "rawType": "int64",
         "type": "integer"
        },
        {
         "name": "subject_code",
         "rawType": "object",
         "type": "string"
        },
        {
         "name": "dicom_path",
         "rawType": "object",
         "type": "string"
        },
        {
         "name": "session_id",
         "rawType": "object",
         "type": "string"
        },
        {
         "name": "bids_path",
         "rawType": "object",
         "type": "string"
        }
       ],
       "ref": "cda65b6d-1030-466c-819f-6c50239d59bf",
       "rows": [
        [
         "0",
         "001",
         "/media/storage/Tzlil/MRI_RAW_DATA/YY_lab_Tzlil_20250525_1228",
         "202505251228",
         "/media/storage/Tzlil/bids/sub-001/ses-202505251228"
        ],
        [
         "1",
         "002",
         "/media/storage/Tzlil/MRI_RAW_DATA/YY_lab_Tzlil_20250716_1738",
         "202507161738",
         "/media/storage/Tzlil/bids/sub-002/ses-202507161738"
        ],
        [
         "2",
         "003",
         "/media/storage/Tzlil/MRI_RAW_DATA/YY_lab_Tzlil_20250707_0848",
         "202507070848",
         "/media/storage/Tzlil/bids/sub-003/ses-202507070848"
        ],
        [
         "3",
         "004",
         "/media/storage/Tzlil/MRI_RAW_DATA/YY_lab_Tzlil_20250714_1234",
         "202507141234",
         "/media/storage/Tzlil/bids/sub-004/ses-202507141234"
        ],
        [
         "4",
         "005",
         "/media/storage/Tzlil/MRI_RAW_DATA/YY_lab_Tzlil_20250604_0927",
         "202506040927",
         "/media/storage/Tzlil/bids/sub-005/ses-202506040927"
        ]
       ],
       "shape": {
        "columns": 4,
        "rows": 5
       }
      },
      "text/html": [
       "<div>\n",
       "<style scoped>\n",
       "    .dataframe tbody tr th:only-of-type {\n",
       "        vertical-align: middle;\n",
       "    }\n",
       "\n",
       "    .dataframe tbody tr th {\n",
       "        vertical-align: top;\n",
       "    }\n",
       "\n",
       "    .dataframe thead th {\n",
       "        text-align: right;\n",
       "    }\n",
       "</style>\n",
       "<table border=\"1\" class=\"dataframe\">\n",
       "  <thead>\n",
       "    <tr style=\"text-align: right;\">\n",
       "      <th></th>\n",
       "      <th>subject_code</th>\n",
       "      <th>dicom_path</th>\n",
       "      <th>session_id</th>\n",
       "      <th>bids_path</th>\n",
       "    </tr>\n",
       "  </thead>\n",
       "  <tbody>\n",
       "    <tr>\n",
       "      <th>0</th>\n",
       "      <td>001</td>\n",
       "      <td>/media/storage/Tzlil/MRI_RAW_DATA/YY_lab_Tzlil...</td>\n",
       "      <td>202505251228</td>\n",
       "      <td>/media/storage/Tzlil/bids/sub-001/ses-20250525...</td>\n",
       "    </tr>\n",
       "    <tr>\n",
       "      <th>1</th>\n",
       "      <td>002</td>\n",
       "      <td>/media/storage/Tzlil/MRI_RAW_DATA/YY_lab_Tzlil...</td>\n",
       "      <td>202507161738</td>\n",
       "      <td>/media/storage/Tzlil/bids/sub-002/ses-20250716...</td>\n",
       "    </tr>\n",
       "    <tr>\n",
       "      <th>2</th>\n",
       "      <td>003</td>\n",
       "      <td>/media/storage/Tzlil/MRI_RAW_DATA/YY_lab_Tzlil...</td>\n",
       "      <td>202507070848</td>\n",
       "      <td>/media/storage/Tzlil/bids/sub-003/ses-20250707...</td>\n",
       "    </tr>\n",
       "    <tr>\n",
       "      <th>3</th>\n",
       "      <td>004</td>\n",
       "      <td>/media/storage/Tzlil/MRI_RAW_DATA/YY_lab_Tzlil...</td>\n",
       "      <td>202507141234</td>\n",
       "      <td>/media/storage/Tzlil/bids/sub-004/ses-20250714...</td>\n",
       "    </tr>\n",
       "    <tr>\n",
       "      <th>4</th>\n",
       "      <td>005</td>\n",
       "      <td>/media/storage/Tzlil/MRI_RAW_DATA/YY_lab_Tzlil...</td>\n",
       "      <td>202506040927</td>\n",
       "      <td>/media/storage/Tzlil/bids/sub-005/ses-20250604...</td>\n",
       "    </tr>\n",
       "  </tbody>\n",
       "</table>\n",
       "</div>"
      ],
      "text/plain": [
       "  subject_code                                         dicom_path  \\\n",
       "0          001  /media/storage/Tzlil/MRI_RAW_DATA/YY_lab_Tzlil...   \n",
       "1          002  /media/storage/Tzlil/MRI_RAW_DATA/YY_lab_Tzlil...   \n",
       "2          003  /media/storage/Tzlil/MRI_RAW_DATA/YY_lab_Tzlil...   \n",
       "3          004  /media/storage/Tzlil/MRI_RAW_DATA/YY_lab_Tzlil...   \n",
       "4          005  /media/storage/Tzlil/MRI_RAW_DATA/YY_lab_Tzlil...   \n",
       "\n",
       "     session_id                                          bids_path  \n",
       "0  202505251228  /media/storage/Tzlil/bids/sub-001/ses-20250525...  \n",
       "1  202507161738  /media/storage/Tzlil/bids/sub-002/ses-20250716...  \n",
       "2  202507070848  /media/storage/Tzlil/bids/sub-003/ses-20250707...  \n",
       "3  202507141234  /media/storage/Tzlil/bids/sub-004/ses-20250714...  \n",
       "4  202506040927  /media/storage/Tzlil/bids/sub-005/ses-20250604...  "
      ]
     },
     "execution_count": 14,
     "metadata": {},
     "output_type": "execute_result"
    }
   ],
   "source": [
    "df.head()"
   ]
  }
 ],
 "metadata": {
  "kernelspec": {
   "display_name": "venv",
   "language": "python",
   "name": "python3"
  },
  "language_info": {
   "codemirror_mode": {
    "name": "ipython",
    "version": 3
   },
   "file_extension": ".py",
   "mimetype": "text/x-python",
   "name": "python",
   "nbconvert_exporter": "python",
   "pygments_lexer": "ipython3",
   "version": "3.12.3"
  }
 },
 "nbformat": 4,
 "nbformat_minor": 5
}
